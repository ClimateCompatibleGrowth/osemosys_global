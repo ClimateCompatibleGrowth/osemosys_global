{
 "cells": [
  {
   "cell_type": "markdown",
   "metadata": {},
   "source": [
    "# OSeMOSYS-PLEXOS global model: TS-dependent parameters"
   ]
  },
  {
   "cell_type": "markdown",
   "metadata": {},
   "source": [
    "### Import modules"
   ]
  },
  {
   "cell_type": "code",
   "execution_count": null,
   "metadata": {},
   "outputs": [],
   "source": [
    "import pandas as pd\n",
    "import datetime\n",
    "import numpy as np\n",
    "import itertools\n",
    "import seaborn as sns; sns.set()\n",
    "import matplotlib\n",
    "import matplotlib.pyplot as plt\n",
    "\n",
    "%matplotlib auto"
   ]
  },
  {
   "cell_type": "markdown",
   "metadata": {},
   "source": [
    "### Input data files and user input"
   ]
  },
  {
   "cell_type": "code",
   "execution_count": null,
   "metadata": {},
   "outputs": [],
   "source": [
    "demand_df = pd.read_csv(r'data\\All Demand UTC 2015.csv', encoding='latin-1')\n",
    "\n",
    "seasons_df = pd.read_csv(r'data\\ts_seasons.csv')\n",
    "dayparts_df = pd.read_csv(r'data\\ts_dayparts.csv')\n",
    "\n",
    "daytype_included = False\n",
    "model_start_year = 2015\n",
    "model_end_year = 2050\n",
    "years = list(range(model_start_year, model_end_year+1))"
   ]
  },
  {
   "cell_type": "markdown",
   "metadata": {},
   "source": [
    "### Create columns for year, month, day, hour, and day type"
   ]
  },
  {
   "cell_type": "code",
   "execution_count": null,
   "metadata": {},
   "outputs": [],
   "source": [
    "demand_nodes = [x for x in demand_df.columns if x != 'Datetime']\n",
    "\n",
    "# Convert datetime to year, month, day, and hour\n",
    "demand_df['Datetime'] = pd.to_datetime(demand_df['Datetime'])\n",
    "demand_df['Year'] = demand_df['Datetime'].dt.strftime('%Y').astype(int)\n",
    "demand_df['Month'] = demand_df['Datetime'].dt.strftime('%m').astype(int)\n",
    "demand_df['Day'] = demand_df['Datetime'].dt.strftime('%d').astype(int)\n",
    "demand_df['Hour'] = demand_df['Datetime'].dt.strftime('%H').astype(int)\n",
    "\n",
    "# Create column for weekday/weekend\n",
    "demand_df['Day-of-week'] = demand_df['Datetime'].dt.dayofweek\n",
    "demand_df.loc[demand_df['Day-of-week'] < 5, 'Day-of-week'] = 'WD'\n",
    "demand_df.loc[demand_df['Day-of-week'] != 'WD', 'Day-of-week'] = 'WE'"
   ]
  },
  {
   "cell_type": "markdown",
   "metadata": {},
   "source": [
    "### Create dictionaries for 'seasons' and 'dayparts'"
   ]
  },
  {
   "cell_type": "code",
   "execution_count": null,
   "metadata": {},
   "outputs": [],
   "source": [
    "seasons_dict = dict(zip(list(seasons_df['month']),\n",
    "                        list(seasons_df['season'])\n",
    "                       )\n",
    "                   )\n",
    "\n",
    "dayparts_dict = {i: [j, k] \n",
    "                 for i, j, k \n",
    "                 in zip(list(dayparts_df['daypart']), \n",
    "                        list(dayparts_df['start_hour']), \n",
    "                        list(dayparts_df['end_hour'])\n",
    "                                             )\n",
    "                }"
   ]
  },
  {
   "cell_type": "markdown",
   "metadata": {},
   "source": [
    "### Create columns with 'seasons' and 'dayparts'"
   ]
  },
  {
   "cell_type": "code",
   "execution_count": null,
   "metadata": {},
   "outputs": [],
   "source": [
    "demand_df['Season'] = demand_df['Month']\n",
    "demand_df['Season'].replace(seasons_dict, inplace=True)\n",
    "\n",
    "for daypart in dayparts_dict:\n",
    "    demand_df.loc[(demand_df['Hour'] >= dayparts_dict[daypart][0]) &\n",
    "                  (demand_df['Hour'] < dayparts_dict[daypart][1]),\n",
    "                  'Daypart'] = daypart"
   ]
  },
  {
   "cell_type": "markdown",
   "metadata": {},
   "source": [
    "### Create column for timeslice with and without day-type"
   ]
  },
  {
   "cell_type": "code",
   "execution_count": null,
   "metadata": {},
   "outputs": [],
   "source": [
    "if daytype_included:\n",
    "    demand_df['TIMESLICE'] = (demand_df['Season'] +\n",
    "                              demand_df['Day-of-week'] +\n",
    "                              demand_df['Daypart'])\n",
    "else:\n",
    "    demand_df['TIMESLICE'] = (demand_df['Season'] +\n",
    "                              demand_df['Daypart'])  \n"
   ]
  },
  {
   "cell_type": "markdown",
   "metadata": {},
   "source": [
    "### Calculate YearSplit"
   ]
  },
  {
   "cell_type": "code",
   "execution_count": null,
   "metadata": {},
   "outputs": [],
   "source": [
    "yearsplit = (demand_df['TIMESLICE'].\n",
    "             value_counts(normalize = True).\n",
    "             to_frame('VALUE').\n",
    "             round(4).\n",
    "             reset_index().\n",
    "             rename({'index':'TIMESLICE'}, axis = 1))\n",
    "\n",
    "yearsplit_final = pd.DataFrame(list(itertools.product(yearsplit['TIMESLICE'].unique(),\n",
    "                                                      years)\n",
    "                                   ),\n",
    "                               columns = ['TIMESLICE', 'YEAR']\n",
    "                              )\n",
    "yearsplit_final = yearsplit_final.join(yearsplit.set_index('TIMESLICE'), \n",
    "                                       on = 'TIMESLICE')\n",
    "yearsplit_final.to_csv(r'output\\YearSplit.csv')"
   ]
  },
  {
   "cell_type": "markdown",
   "metadata": {},
   "source": [
    "### Calculate SpecifiedAnnualDemand and SpecifiedDemandProfile"
   ]
  },
  {
   "cell_type": "code",
   "execution_count": null,
   "metadata": {},
   "outputs": [],
   "source": [
    "sp_demand_df = demand_df[[x \n",
    "                          for x in demand_df.columns \n",
    "                          if x in demand_nodes or\n",
    "                          x == 'TIMESLICE']]\n",
    "sp_demand_df = pd.melt(sp_demand_df,\n",
    "                       id_vars = 'TIMESLICE',\n",
    "                       value_vars = demand_nodes, \n",
    "                       var_name = 'node', \n",
    "                       value_name = 'demand')\n",
    "\n",
    "sp_demand_df = sp_demand_df.groupby(['TIMESLICE', 'node'], \n",
    "                                    as_index = False).agg(sum)\n",
    "\n",
    "# Calculate SpecifiedAnnualDemand\n",
    "total_demand_df = sp_demand_df.groupby('node', \n",
    "                                       as_index = False).agg(sum)\n",
    "\n",
    "total_demand_df.rename({'demand':'total_demand'}, \n",
    "                       axis = 1, \n",
    "                       inplace = True)\n",
    "\n",
    "sp_demand_df = sp_demand_df.join(total_demand_df.set_index('node'), \n",
    "                                 on = 'node')\n",
    "\n",
    "# Calculate SpecifiedDemandProfile\n",
    "\n",
    "sp_demand_df['VALUE'] = (sp_demand_df['demand'] / \n",
    "                         sp_demand_df['total_demand'])\n",
    "\n",
    "                \n",
    "# Filter out country aggregate values for countries with multiple nodes \n",
    "country_with_nodes = list((sp_demand_df.loc[sp_demand_df['node'].str.len() > 6,\n",
    "                                       'node'].\n",
    "                      str[:-3].\n",
    "                      unique()))\n",
    "\n",
    "sp_demand_df = sp_demand_df.loc[~(sp_demand_df['node'].\n",
    "                                  isin(country_with_nodes))]\n",
    "\n",
    "\n",
    "# Rename COMMODITY based on naming convention. \n",
    "# Add 'XX' for countries without multiple nodes\n",
    "sp_demand_df.loc[sp_demand_df['node'].str.len() <= 6, \n",
    "                 'COMMODITY'] = ('ELC' + \n",
    "                                 sp_demand_df['node'].\n",
    "                                 str.split('-').\n",
    "                                 str[1:].\n",
    "                                 str.join(\"\") +\n",
    "                                 'XX02')\n",
    "\n",
    "sp_demand_df.loc[sp_demand_df['node'].str.len() > 6, \n",
    "                 'COMMODITY'] = ('ELC' + \n",
    "                                 sp_demand_df['node'].\n",
    "                                 str.split('-').\n",
    "                                 str[1:].\n",
    "                                 str.join(\"\") +\n",
    "                                 '02')\n",
    "\n",
    "# Create master table for SpecifiedDemandProfile\n",
    "sp_demand_df_final = pd.DataFrame(list(itertools.product(sp_demand_df['TIMESLICE'].unique(),\n",
    "                                                         sp_demand_df['COMMODITY'].unique(),\n",
    "                                                         years)\n",
    "                                      ),\n",
    "                                  columns = ['TIMESLICE', 'COMMODITY', 'YEAR']\n",
    "                                 )\n",
    "sp_demand_df_final = sp_demand_df_final.join(sp_demand_df.set_index(['TIMESLICE', 'COMMODITY']), \n",
    "                                             on = ['TIMESLICE', 'COMMODITY'])\n",
    "\n",
    "# Add 'REGION' column and fill 'GLOBAL' throughout\n",
    "sp_demand_df_final['REGION'] = 'GLOBAL'\n",
    "\n",
    "total_demand_df_final = (sp_demand_df_final.\n",
    "                         groupby(['REGION',\n",
    "                                  'COMMODITY',\n",
    "                                  'YEAR'],\n",
    "                                 as_index = False)['total_demand'].\n",
    "                         agg('mean').\n",
    "                         rename({'total_demand':'VALUE'}, \n",
    "                                axis = 1)\n",
    "                        )\n",
    "\n",
    "# Convert SpecifiedAnnualDemand to required units\n",
    "#total_demand_df_final['VALUE'] = total_demand_df_final['VALUE'].mul(3.6*1e-6)\n",
    "\n",
    "# Generate SpecifiedAnnualDemand.csv file \n",
    "total_demand_df_final.to_csv(r'output\\SpecifiedAnnualDemand.csv', index = None)\n",
    "\n",
    "# Generate SpecifiedDemandProfile.csv file \n",
    "sp_demand_df_final = sp_demand_df_final[['REGION',\n",
    "                                         'COMMODITY',\n",
    "                                         'TIMESLICE',\n",
    "                                         'YEAR', \n",
    "                                         'VALUE']]\n",
    "\n",
    "sp_demand_df_final.to_csv(r'output\\SpecifiedDemandProfile.csv', index = None)"
   ]
  },
  {
   "cell_type": "markdown",
   "metadata": {},
   "source": [
    "### Visualise SpecifiedDemandProfile "
   ]
  },
  {
   "cell_type": "code",
   "execution_count": null,
   "metadata": {},
   "outputs": [],
   "source": []
  }
 ],
 "metadata": {
  "kernelspec": {
   "display_name": "Python 3",
   "language": "python",
   "name": "python3"
  },
  "language_info": {
   "codemirror_mode": {
    "name": "ipython",
    "version": 3
   },
   "file_extension": ".py",
   "mimetype": "text/x-python",
   "name": "python",
   "nbconvert_exporter": "python",
   "pygments_lexer": "ipython3",
   "version": "3.7.4"
  }
 },
 "nbformat": 4,
 "nbformat_minor": 2
}
