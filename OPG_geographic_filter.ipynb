{
 "cells": [
  {
   "cell_type": "markdown",
   "metadata": {},
   "source": [
    "# Filter osemosys_global datapackaged based on user-defined geographic scope"
   ]
  },
  {
   "cell_type": "markdown",
   "metadata": {},
   "source": [
    "### Import modules"
   ]
  },
  {
   "cell_type": "code",
   "execution_count": null,
   "metadata": {},
   "outputs": [],
   "source": [
    "import pandas as pd\n",
    "import os"
   ]
  },
  {
   "cell_type": "code",
   "execution_count": null,
   "metadata": {},
   "outputs": [],
   "source": [
    "geographic_scope = ['AGO', 'COG', 'NAM']\n",
    "model_name = 'geo_filter_test'\n",
    "\n",
    "for each_csv in (os.listdir(os.path.join(os.getcwd(),\n",
    "                                         r'osemosys_global_model\\data'))):\n",
    "    \n",
    "    df = pd.read_csv(os.path.join(os.getcwd(),\n",
    "                                  r'osemosys_global_model\\data',\n",
    "                                  each_csv)\n",
    "                    )\n",
    "    if not df.empty:\n",
    "        if 'TECHNOLOGY' in df.columns:\n",
    "            df = df.loc[df['TECHNOLOGY'].str[3:6].isin(geographic_scope) | \n",
    "                        df['TECHNOLOGY'].str[6:9].isin(geographic_scope)]\n",
    "            \n",
    "        if 'FUEL' in df.columns:\n",
    "            #print(df['FUEL'])\n",
    "            df = df.loc[df['FUEL'].str[3:6].isin(geographic_scope) | \n",
    "            #            df['FUEL'].str[6:9].isin(geographic_scope)]\n",
    "            print(df['FUEL'])\n",
    "\n",
    "        \n",
    "        print(each_csv, df.columns)"
   ]
  },
  {
   "cell_type": "code",
   "execution_count": null,
   "metadata": {},
   "outputs": [],
   "source": []
  }
 ],
 "metadata": {
  "kernelspec": {
   "display_name": "Python 3",
   "language": "python",
   "name": "python3"
  },
  "language_info": {
   "codemirror_mode": {
    "name": "ipython",
    "version": 3
   },
   "file_extension": ".py",
   "mimetype": "text/x-python",
   "name": "python",
   "nbconvert_exporter": "python",
   "pygments_lexer": "ipython3",
   "version": "3.7.4"
  }
 },
 "nbformat": 4,
 "nbformat_minor": 2
}
