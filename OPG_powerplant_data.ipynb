{
 "cells": [
  {
   "cell_type": "markdown",
   "metadata": {},
   "source": [
    "# OSeMOSYS-PLEXOS global model: Powerplant data"
   ]
  },
  {
   "cell_type": "markdown",
   "metadata": {},
   "source": [
    "### Import modules"
   ]
  },
  {
   "cell_type": "code",
   "execution_count": null,
   "metadata": {},
   "outputs": [],
   "source": [
    "import pandas as pd\n",
    "pd.options.mode.chained_assignment = None  # default='warn'\n",
    "import numpy as np\n",
    "%reload_ext blackcellmagic"
   ]
  },
  {
   "cell_type": "markdown",
   "metadata": {},
   "source": [
    "### Import data files and user input"
   ]
  },
  {
   "cell_type": "code",
   "execution_count": null,
   "metadata": {},
   "outputs": [],
   "source": [
    "df = pd.read_csv(\n",
    "    r\"data/OPG_powerplant_data_19-03-2020.csv\", encoding=\"latin-1\", low_memory=False\n",
    ")\n",
    "df_dict = pd.read_csv(r\"data/OPG_memberships_19-03-2020.csv\")\n",
    "df_dict = df_dict[df_dict[\"parent_class\"] == \"Generator\"].rename(\n",
    "    {\"parent_object\": \"powerplant\"}, axis=1\n",
    ")\n",
    "df_weo_data = pd.read_csv(r\"data/weo_2018_powerplant_costs.csv\")\n",
    "df_op_life = pd.read_csv(r\"data/operational_life.csv\")\n",
    "df_tech_code = pd.read_csv(r\"data/naming_convention_tech.csv\")\n",
    "\n",
    "model_horizon = 2050"
   ]
  },
  {
   "cell_type": "markdown",
   "metadata": {},
   "source": [
    "### Create main generator table"
   ]
  },
  {
   "cell_type": "code",
   "execution_count": null,
   "metadata": {},
   "outputs": [],
   "source": [
    "gen_cols_1 = [\"child_class\", \"child_object\", \"property\", \"value\"]\n",
    "df_gen = df[gen_cols_1]\n",
    "df_gen = df_gen[df_gen[\"child_class\"] == \"Generator\"]\n",
    "df_gen.rename(columns={\"child_object\": \"powerplant\"}, inplace=True)\n",
    "df_gen.drop(\"child_class\", axis=1, inplace=True)\n",
    "df_gen = pd.pivot_table(df_gen,\n",
    "                        index=\"powerplant\",\n",
    "                        columns=\"property\",\n",
    "                        values=\"value\",\n",
    "                        aggfunc=np.sum,\n",
    "                        fill_value=0,\n",
    "                       )\n",
    "df_gen[\"total_capacity\"] = (df_gen[\"Max Capacity\"].astype(float)) * (\n",
    "    df_gen[\"Units\"].astype(int)\n",
    ")"
   ]
  },
  {
   "cell_type": "code",
   "execution_count": null,
   "metadata": {},
   "outputs": [],
   "source": [
    "gen_cols_2 = [\"Commission Date\", \"Heat Rate\", \"Max Capacity\", \"total_capacity\"]\n",
    "df_gen_2 = df_gen[gen_cols_2]\n",
    "\n",
    "## Compile dataframe with powerplants, nodes, and fuels\n",
    "df_dict_fuel = df_dict[df_dict[\"collection\"] == \"Fuels\"]\n",
    "df_dict_fuel = df_dict_fuel[[\"powerplant\", \"child_object\"]]\n",
    "df_dict_nodes = df_dict[df_dict[\"collection\"] == \"Nodes\"]\n",
    "df_dict_nodes = df_dict_nodes[[\"powerplant\", \"child_object\"]]\n",
    "df_dict_2 = pd.merge(df_dict_fuel, df_dict_nodes, how=\"outer\", on=\"powerplant\")\n",
    "\n",
    "## Merge original generator dataframe with nodes and fuels\n",
    "df_gen_2 = pd.merge(df_gen_2, df_dict_2, how=\"outer\", on=\"powerplant\")\n",
    "df_gen_2.rename(\n",
    "    {\"child_object_x\": \"fuel\", \"child_object_y\": \"node\"}, axis=1, inplace=True\n",
    ")\n",
    "\n",
    "## Extract start year from Commission Date\n",
    "df_gen_2[\"Commission Date\"] = pd.to_datetime(df_gen_2[\"Commission Date\"])\n",
    "df_gen_2[\"start_year\"] = df_gen_2[\"Commission Date\"].dt.year\n",
    "df_gen_2.drop(\"Commission Date\", axis=1, inplace=True)\n",
    "\n",
    "## Calculate efficiency from heat rate. Units of heat rate in MJ/kWh\n",
    "df_gen_2[\"efficiency\"] = 3.6 / df_gen_2[\"Heat Rate\"].astype(float)\n",
    "df_gen_2.drop(\"Heat Rate\", axis=1, inplace=True)\n",
    "\n",
    "## Calcluate years of operation from start year until 2015\n",
    "df_gen_2[\"years_of_operation\"] = 2015 - df_gen_2[\"start_year\"]\n",
    "\n",
    "## Fix blank spaces in 'fuels' columns. Appearing for 'Oil' powerplants in certain countries\n",
    "df_gen_2.loc[df_gen_2[\"fuel\"].isna(), \"fuel\"] = (\n",
    "    df_gen_2[\"node\"].str.split(\"-\").str[:2].str.join(\"-\")\n",
    "    + \" \"\n",
    "    + df_gen_2[\"powerplant\"].str.split(\"_\", expand=True)[1]\n",
    ")"
   ]
  },
  {
   "cell_type": "code",
   "execution_count": null,
   "metadata": {},
   "outputs": [],
   "source": [
    "## Create column for technology\n",
    "df_gen_2[\"technology\"] = df_gen_2[\"powerplant\"].str.split(\"_\").str[1]\n",
    "df_gen_2[\"technology\"] = df_gen_2[\"technology\"].str.title()\n",
    "\n",
    "\n",
    "## Divide Gas into CCGT and OCGT based on max capacity\n",
    "df_gen_2.loc[\n",
    "    (df_gen_2[\"technology\"] == \"Gas\") & (df_gen_2[\"Max Capacity\"].astype(float) > 130),\n",
    "    \"technology\",\n",
    "] = \"Gas-CCGT\"\n",
    "df_gen_2.loc[\n",
    "    (df_gen_2[\"technology\"] == \"Gas\") & (df_gen_2[\"Max Capacity\"].astype(float) <= 130),\n",
    "    \"technology\",\n",
    "] = \"Gas-OCGT\""
   ]
  },
  {
   "cell_type": "markdown",
   "metadata": {},
   "source": [
    "### Create table with aggregated capacity  "
   ]
  },
  {
   "cell_type": "code",
   "execution_count": null,
   "metadata": {},
   "outputs": [],
   "source": [
    "df_gen_agg_node = df_gen_2[df_gen_2['start_year']<=2015]\n",
    "df_gen_agg_node = df_gen_agg_node.groupby(['node', 'technology'], \n",
    "                                          as_index=False)['total_capacity'].sum()\n",
    "df_gen_agg_node = df_gen_agg_node.pivot(index='node', \n",
    "                                        columns='technology', \n",
    "                                        values='total_capacity').fillna(0).reset_index()\n",
    "\n",
    "df_gen_agg_node.drop('Sto', axis=1, inplace=True) # Drop 'Sto' technology. Only for USA.\n",
    "\n",
    "# Add extra nodes which exist in 2050 but are not in the 2015 data\n",
    "nodes_extra_df = pd.DataFrame(columns=['node'])\n",
    "nodes_extra_list = ['AF-SOM',\n",
    "                    'AF-TCD',\n",
    "                    'AS-TLS',\n",
    "                    'EU-MLT',\n",
    "                    'NA-BLZ',\n",
    "                    'NA-HTI',\n",
    "                    'SA-BRA-J1',\n",
    "                    'SA-BRA-J2',\n",
    "                    'SA-BRA-J3',\n",
    "                    'SA-SUR',]\n",
    "nodes_extra_df['node'] = nodes_extra_list\n",
    "\n",
    "df_gen_agg_node = df_gen_agg_node.append(nodes_extra_df,\n",
    "                                         ignore_index=True,\n",
    "                                         sort='False').fillna(0).sort_values(by='node').set_index('node').round(2)\n",
    "#df_gen_agg_node.to_csv(r'output/test_output_2.csv')"
   ]
  },
  {
   "cell_type": "markdown",
   "metadata": {},
   "source": [
    "### Add region and country code columns"
   ]
  },
  {
   "cell_type": "code",
   "execution_count": null,
   "metadata": {},
   "outputs": [],
   "source": [
    "df_gen_2['region_code'] = df_gen_2['node'].str[:2]\n",
    "df_gen_2['country_code'] = df_gen_2['node'].str[3:]"
   ]
  },
  {
   "cell_type": "markdown",
   "metadata": {},
   "source": [
    "### Add operational life column"
   ]
  },
  {
   "cell_type": "code",
   "execution_count": null,
   "metadata": {},
   "outputs": [],
   "source": [
    "op_life_dict = dict(zip(list(df_op_life['tech']),\n",
    "                        list(df_op_life['years'])))\n",
    "\n",
    "df_gen_2['operational_life'] = df_gen_2['technology'].map(op_life_dict)\n",
    "df_gen_2['retirement_year_data'] = (df_gen_2['operational_life'] \n",
    "                                    + df_gen_2['start_year'])\n",
    "df_gen_2['retirement_diff'] = ((df_gen_2['years_of_operation'] \n",
    "                               - df_gen_2['operational_life'])/\n",
    "                               df_gen_2['operational_life'])\n",
    "\n",
    "''' Set retirement year based on years of operation. \n",
    "If (years of operation - operational life) is more than 50% of \n",
    "operational life, set retirement year\n",
    "'''\n",
    "df_gen_2.loc[df_gen_2['retirement_diff'] >= 0.5, \n",
    "             'retirement_year_model'] = 2020\n",
    "df_gen_2.loc[(df_gen_2['retirement_diff'] < 0.5) &\n",
    "             (df_gen_2['retirement_diff'] > 0), \n",
    "             'retirement_year_model'] = 2025\n",
    "df_gen_2.loc[df_gen_2['retirement_diff'] <= 0, \n",
    "             'retirement_year_model'] = df_gen_2['retirement_year_data']\n",
    "\n",
    "#df_gen_2.to_csv(r'output/test_output_3.csv')"
   ]
  },
  {
   "cell_type": "markdown",
   "metadata": {},
   "source": [
    "### Add naming convention"
   ]
  },
  {
   "cell_type": "code",
   "execution_count": null,
   "metadata": {},
   "outputs": [],
   "source": [
    "tech_code_dict = dict(zip(list(df_tech_code['tech']),\n",
    "                          list(df_tech_code['code'])))\n",
    "df_gen_2['tech_code'] = df_gen_2['technology'].map(tech_code_dict)\n",
    "\n",
    "df_gen_2.loc[df_gen_2['node'].str.len() <= 6, \n",
    "             'node_code'] = (df_gen_2['node'].\n",
    "                             str.split('-').\n",
    "                             str[1:].\n",
    "                             str.join(\"\") +\n",
    "                             'XX')\n",
    "df_gen_2.loc[df_gen_2['node'].str.len() > 6, \n",
    "             'node_code'] = (df_gen_2['node'].\n",
    "                             str.split('-').\n",
    "                             str[1:].\n",
    "                             str.join(\"\")\n",
    "                            )\n",
    "df_gen_2"
   ]
  },
  {
   "cell_type": "markdown",
   "metadata": {},
   "source": [
    "### Calculate residual capacity"
   ]
  },
  {
   "cell_type": "code",
   "execution_count": null,
   "metadata": {},
   "outputs": [],
   "source": [
    "res_cap_cols = [\n",
    "    \"node_code\",\n",
    "    \"tech_code\",\n",
    "    \"total_capacity\",\n",
    "    \"start_year\",\n",
    "    \"retirement_year_model\",\n",
    "]\n",
    "\n",
    "df_res_cap = df_gen_2[res_cap_cols]\n",
    "for each_year in range(2015, model_horizon):\n",
    "    df_res_cap[str(each_year)] = 0\n",
    "\n",
    "df_res_cap = pd.melt(\n",
    "    df_res_cap,\n",
    "    id_vars=res_cap_cols,\n",
    "    value_vars=[x for x in df_res_cap.columns if x not in res_cap_cols],\n",
    "    var_name=\"model_year\",\n",
    "    value_name=\"value\",\n",
    ")\n",
    "df_res_cap[\"model_year\"] = df_res_cap[\"model_year\"].astype(int)\n",
    "df_res_cap.loc[\n",
    "    (df_res_cap[\"model_year\"] >= df_res_cap[\"start_year\"])\n",
    "    & (df_res_cap[\"model_year\"] <= df_res_cap[\"retirement_year_model\"]),\n",
    "    \"value\",\n",
    "] = df_res_cap[\"total_capacity\"]\n",
    "\n",
    "df_res_cap = df_res_cap.groupby(\n",
    "    [\"node_code\", \"tech_code\", \"model_year\"], as_index=False\n",
    ")[\"value\"].sum()\n",
    "\n",
    "# Add column with naming convention\n",
    "df_res_cap['tech'] = ('PWR' + \n",
    "                      df_res_cap['tech_code'] + \n",
    "                      df_res_cap['node_code'] + '01'\n",
    "                     )\n",
    "# Convert total capacity from MW to GW\n",
    "df_res_cap['value'] = df_res_cap['value'].div(1000)\n",
    "\n",
    "# Rename 'model_year' to 'year' and 'total_capacity' to 'value' \n",
    "df_res_cap.rename({'tech':'TECHNOLOGY',\n",
    "                   'model_year':'YEAR',\n",
    "                   'value':'VALUE'}, \n",
    "                  inplace = True,\n",
    "                  axis=1)\n",
    "# Drop 'tech_code' and 'node_code'\n",
    "df_res_cap.drop(['tech_code', 'node_code'], inplace = True, axis=1)        \n",
    "\n",
    "# Add 'REGION' column and fill 'GLOBAL' throughout\n",
    "df_res_cap['REGION'] = 'GLOBAL'\n",
    "\n",
    "#Reorder columns\n",
    "df_res_cap = df_res_cap[['REGION', 'TECHNOLOGY', 'YEAR', 'VALUE']]\n",
    "                     \n",
    "df_res_cap.to_csv(r\"output/ResidualCapacity.csv\", index = None)\n",
    "print(df_res_cap)"
   ]
  },
  {
   "cell_type": "markdown",
   "metadata": {},
   "source": [
    "### Add input and output activity ratios"
   ]
  },
  {
   "cell_type": "code",
   "execution_count": null,
   "metadata": {},
   "outputs": [],
   "source": []
  },
  {
   "cell_type": "markdown",
   "metadata": {},
   "source": [
    "### Append powerplant capital and fixed costs"
   ]
  },
  {
   "cell_type": "code",
   "execution_count": null,
   "metadata": {},
   "outputs": [],
   "source": [
    "df_cap_fix_costs = pd.melt(\n",
    "    df_weo_data,\n",
    "    id_vars=[\"technology\", \"region/country\", \"parameter\"],\n",
    "    value_vars=[\"2017\", \"2030\", \"2040\"],\n",
    "    var_name=\"year\",\n",
    ").reset_index()\n",
    "\n",
    "df_cap_fix_costs[\"parameter\"] = df_cap_fix_costs[\"parameter\"].str.split(\n",
    "    \"\\n\", expand=True\n",
    ")[0]\n",
    "\n",
    "weo_region_map = {\n",
    "    \"AF\": [\"Africa\"],\n",
    "    \"AS\": [\"China\", \"India\", \"Japan\", \"Middle East\", \"Russia\"],\n",
    "    \"EU\": [\"Europe\", \"Russia\"],\n",
    "    \"NA\": [\"United States\"],\n",
    "    \"SA\": [\"Brazil\"],\n",
    "}\n",
    "\n",
    "# weo_tech_map = {'Bio':['Biomass Power plant'],\n",
    "#                'Coa':['Steam Coal - SUBCRITICAL', 'Steam Coal - SUPERCRITICAL', 'Steam Coal - ULTRASUPERCRITICAL'],\n",
    "#                'Cog':['Biomass CHP Medium', 'Biomass CHP Small', 'Biomass Cofiring'],\n",
    "#                'Gas-CCGT':['CCGT'],\n",
    "#                'Gas-OCGT':['Gas turbine'],\n",
    "#                'Geo':['Geothermal'],\n",
    "#                'Hyd':['Hydropower - large-scale', 'Hydropower - small-scale'],\n",
    "#                'Nuc':['Nuclear'],\n",
    "#                'Oil':\n",
    "#                'Oth':\n",
    "#                'Pet':\n",
    "#                'Sol':['Solar photovoltaics - Buildings', 'Solar photovoltaics - Large scale'],\n",
    "#                'Was':['Biomass - waste incineration - CHP'],\n",
    "#                'Wav':['Marine'],\n",
    "#                'Win':['Wind onshore'],\n",
    "#               }\n",
    "\n",
    "df_cap_fix_costs.replace(\"n.a.\", 0, inplace=True)\n",
    "\n",
    "df_cap_fix_costs = pd.pivot_table(\n",
    "    df_cap_fix_costs,\n",
    "    index=[\"technology\", \"parameter\", \"year\"],\n",
    "    columns=\"region/country\",\n",
    "    values=\"value\",\n",
    "    aggfunc=\"sum\",\n",
    ").reset_index()\n",
    "\n",
    "\n",
    "df_cap_fix_costs"
   ]
  },
  {
   "cell_type": "code",
   "execution_count": null,
   "metadata": {},
   "outputs": [],
   "source": []
  },
  {
   "cell_type": "code",
   "execution_count": null,
   "metadata": {},
   "outputs": [],
   "source": []
  }
 ],
 "metadata": {
  "kernelspec": {
   "display_name": "Python 3",
   "language": "python",
   "name": "python3"
  },
  "language_info": {
   "codemirror_mode": {
    "name": "ipython",
    "version": 3
   },
   "file_extension": ".py",
   "mimetype": "text/x-python",
   "name": "python",
   "nbconvert_exporter": "python",
   "pygments_lexer": "ipython3",
   "version": "3.7.4"
  }
 },
 "nbformat": 4,
 "nbformat_minor": 2
}
