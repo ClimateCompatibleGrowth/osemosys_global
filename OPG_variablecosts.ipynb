{
 "cells": [
  {
   "cell_type": "markdown",
   "metadata": {},
   "source": [
    "# OSeMOSYS-PLEXOS global model: Powerplant data"
   ]
  },
  {
   "cell_type": "markdown",
   "metadata": {},
   "source": [
    "### Import modules"
   ]
  },
  {
   "cell_type": "code",
   "execution_count": 43,
   "metadata": {},
   "outputs": [],
   "source": [
    "import pandas as pd\n",
    "pd.options.mode.chained_assignment = None  # default='warn'\n",
    "import numpy as np\n",
    "import itertools\n",
    "\n",
    "%reload_ext blackcellmagic"
   ]
  },
  {
   "cell_type": "markdown",
   "metadata": {},
   "source": [
    "### Import data files and user input"
   ]
  },
  {
   "cell_type": "code",
   "execution_count": 44,
   "metadata": {},
   "outputs": [],
   "source": [
    "## Data for variable costs of fuels taken from World Bank Commodity Market Outlooks:\n",
    "##    https://www.worldbank.org/en/research/commodity-markets\n",
    "## Download the 'Charts and Data' zip file and extract the forecasts file (CMO-April-2020-forecasts.xlsx).\n",
    "## Adjust filename below for forecasts done at a different date.\n",
    "\n",
    "# Read in World Bank Commodity Price Outlook - we only want rows 87 - 91\n",
    "# using 85 as the headers (years) and skipping the energy header...\n",
    "\n",
    "#### REPLACE FROM BELOW ONCE FIGURED OUT...df_prices = pd.read_excel(\n",
    "df_prices = pd.read_excel(\n",
    "    \"data/CMO-April-2020-forecasts.xlsx\", header=1, skiprows=83, nrows=6\n",
    ")\n",
    "\n",
    "# Read in Technologies\n",
    "df_techs = pd.read_csv(r\"osemosys_global_model/data/TECHNOLOGY.csv\")\n",
    "\n",
    "model_start_year = 2015\n",
    "model_end_year = 2050\n",
    "years = list(range(model_start_year, model_end_year + 1))\n",
    "\n",
    "region_name = \"GLOBAL\"\n",
    "emissions = []"
   ]
  },
  {
   "cell_type": "markdown",
   "metadata": {},
   "source": [
    "### Filter technologies to keep only fuel production technologies (MIN)"
   ]
  },
  {
   "cell_type": "code",
   "execution_count": 45,
   "metadata": {},
   "outputs": [],
   "source": [
    "# print(df_techs)\n",
    "df_techs = df_techs[df_techs.VALUE.str.contains('MIN')]"
   ]
  },
  {
   "cell_type": "markdown",
   "metadata": {},
   "source": [
    "### Cleanup prices from CMO data"
   ]
  },
  {
   "cell_type": "code",
   "execution_count": 173,
   "metadata": {},
   "outputs": [
    {
     "name": "stdout",
     "output_type": "stream",
     "text": [
      "COMMODITY KFCOAL_AUS KFCRUDE_PETRO   KFNGAS_EUR    KFNGAS_US    KFNGAS_JP\n",
      "2015         2.05491    0.00847743  6.60675e+06  2.53154e+06  1.05909e+07\n",
      "2016         2.39914    0.00744187  4.59973e+06  2.51204e+06  7.43109e+06\n",
      "2017          3.1032    0.00886886  5.56786e+06  2.88238e+06  8.38155e+06\n",
      "2018         3.58755     0.0109765  7.15352e+06  2.93816e+06  9.93625e+06\n",
      "2019         2.67126     0.0100901  4.57563e+06  2.44475e+06  1.00656e+07\n",
      "2020         2.24031    0.00577935  2.96823e+06  1.91498e+06  8.33018e+06\n",
      "2021         2.30686    0.00682618  3.86399e+06  2.16761e+06  8.38769e+06\n",
      "2022         2.23751    0.00710576  4.03303e+06  2.26708e+06  8.20741e+06\n",
      "2023         2.16897    0.00739248  4.20702e+06  2.36974e+06  8.02633e+06\n",
      "2024         2.10155    0.00768714  4.38643e+06  2.47587e+06  7.84554e+06\n",
      "2025          2.0354    0.00799035  4.57168e+06  2.58573e+06  7.66576e+06\n",
      "2026             NaN           NaN          NaN          NaN          NaN\n",
      "2027             NaN           NaN          NaN          NaN          NaN\n",
      "2028             NaN           NaN          NaN          NaN          NaN\n",
      "2029             NaN           NaN          NaN          NaN          NaN\n",
      "2030         1.72663    0.00965076   5.5961e+06  3.19777e+06  6.79526e+06\n",
      "2031             NaN           NaN          NaN          NaN          NaN\n",
      "2032             NaN           NaN          NaN          NaN          NaN\n",
      "2033             NaN           NaN          NaN          NaN          NaN\n",
      "2034             NaN           NaN          NaN          NaN          NaN\n",
      "2035             NaN           NaN          NaN          NaN          NaN\n",
      "2036             NaN           NaN          NaN          NaN          NaN\n",
      "2037             NaN           NaN          NaN          NaN          NaN\n",
      "2038             NaN           NaN          NaN          NaN          NaN\n",
      "2039             NaN           NaN          NaN          NaN          NaN\n",
      "2040             NaN           NaN          NaN          NaN          NaN\n",
      "2041             NaN           NaN          NaN          NaN          NaN\n",
      "2042             NaN           NaN          NaN          NaN          NaN\n",
      "2043             NaN           NaN          NaN          NaN          NaN\n",
      "2044             NaN           NaN          NaN          NaN          NaN\n",
      "2045             NaN           NaN          NaN          NaN          NaN\n",
      "2046             NaN           NaN          NaN          NaN          NaN\n",
      "2047             NaN           NaN          NaN          NaN          NaN\n",
      "2048             NaN           NaN          NaN          NaN          NaN\n",
      "2049             NaN           NaN          NaN          NaN          NaN\n",
      "2050             NaN           NaN          NaN          NaN          NaN\n"
     ]
    },
    {
     "ename": "TypeError",
     "evalue": "Cannot interpolate with all object-dtype columns in the DataFrame. Try setting at least one column to a numeric dtype.",
     "output_type": "error",
     "traceback": [
      "\u001b[1;31m---------------------------------------------------------------------------\u001b[0m",
      "\u001b[1;31mTypeError\u001b[0m                                 Traceback (most recent call last)",
      "\u001b[1;32m<ipython-input-173-c51e7dff47a9>\u001b[0m in \u001b[0;36m<module>\u001b[1;34m\u001b[0m\n\u001b[0;32m     37\u001b[0m \u001b[0mprint\u001b[0m\u001b[1;33m(\u001b[0m\u001b[0mdf_prices\u001b[0m\u001b[1;33m)\u001b[0m\u001b[1;33m\u001b[0m\u001b[1;33m\u001b[0m\u001b[0m\n\u001b[0;32m     38\u001b[0m \u001b[1;33m\u001b[0m\u001b[0m\n\u001b[1;32m---> 39\u001b[1;33m \u001b[0mdf_prices\u001b[0m \u001b[1;33m=\u001b[0m \u001b[0mdf_prices\u001b[0m\u001b[1;33m.\u001b[0m\u001b[0minterpolate\u001b[0m\u001b[1;33m(\u001b[0m\u001b[1;33m)\u001b[0m\u001b[1;33m\u001b[0m\u001b[1;33m\u001b[0m\u001b[0m\n\u001b[0m\u001b[0;32m     40\u001b[0m \u001b[1;33m\u001b[0m\u001b[0m\n\u001b[0;32m     41\u001b[0m \u001b[1;31m## Need to create: REGION,TECHNOLOGY,MODE_OF_OPERATION,YEAR,VALUE\u001b[0m\u001b[1;33m\u001b[0m\u001b[1;33m\u001b[0m\u001b[1;33m\u001b[0m\u001b[0m\n",
      "\u001b[1;32mc:\\users\\tniet\\appdata\\local\\programs\\python\\python38-32\\lib\\site-packages\\pandas\\core\\generic.py\u001b[0m in \u001b[0;36minterpolate\u001b[1;34m(self, method, axis, limit, inplace, limit_direction, limit_area, downcast, **kwargs)\u001b[0m\n\u001b[0;32m   6972\u001b[0m             \u001b[0m_maybe_transposed_self\u001b[0m\u001b[1;33m.\u001b[0m\u001b[0mT\u001b[0m\u001b[1;33m\u001b[0m\u001b[1;33m\u001b[0m\u001b[0m\n\u001b[0;32m   6973\u001b[0m         ):\n\u001b[1;32m-> 6974\u001b[1;33m             raise TypeError(\n\u001b[0m\u001b[0;32m   6975\u001b[0m                 \u001b[1;34m\"Cannot interpolate with all object-dtype columns \"\u001b[0m\u001b[1;33m\u001b[0m\u001b[1;33m\u001b[0m\u001b[0m\n\u001b[0;32m   6976\u001b[0m                 \u001b[1;34m\"in the DataFrame. Try setting at least one \"\u001b[0m\u001b[1;33m\u001b[0m\u001b[1;33m\u001b[0m\u001b[0m\n",
      "\u001b[1;31mTypeError\u001b[0m: Cannot interpolate with all object-dtype columns in the DataFrame. Try setting at least one column to a numeric dtype."
     ]
    }
   ],
   "source": [
    "# TEMP READ HERE TO MAKE DEBUGGING EASIER\n",
    "df_prices = pd.read_excel(\n",
    "    \"data/CMO-April-2020-forecasts.xlsx\", header=1, skiprows=83, nrows=6\n",
    ")\n",
    "#############################\n",
    "\n",
    "df_prices = df_prices.drop([0], axis=0)\n",
    "df_prices = df_prices.drop([\"Commodity\"], axis=1)\n",
    "columns = df_prices.columns.values\n",
    "columns[0] = \"COMMODITY\"\n",
    "\n",
    "df_prices = df_prices.loc[:, ~df_prices.columns.str.contains('^Unnamed', na=False)]\n",
    "\n",
    "df_prices = df_prices.transpose()\n",
    "\n",
    "# use commodity key as header\n",
    "new_header = df_prices.iloc[0] #grab the first row for the header\n",
    "df_prices = df_prices[1:] #take the data less the header row\n",
    "df_prices.columns = new_header #set the header row as the df header\n",
    "\n",
    "# drop units as we're doing $/PJ\n",
    "df_prices = df_prices.drop(\"Unit\", axis = 0)\n",
    "\n",
    "# And convert to $/PJ\n",
    "# Values taken from kylesconverter.com:\n",
    "#  1 MT coal contains 29.31 PJ (1,000,000 tonnes coal)\n",
    "#  1 MMBtu = 0.000001055056 PJ \n",
    "#  1 bbl = 6117.86 PJ (Billion Barrels of Oil)\n",
    "df_prices['KFCOAL_AUS'] = df_prices['KFCOAL_AUS'] / 29.31\n",
    "df_prices['KFCRUDE_PETRO'] = df_prices['KFCRUDE_PETRO'] / 6117.86\n",
    "df_prices['KFNGAS_EUR'] = df_prices['KFNGAS_EUR'] / 0.000001055056\n",
    "df_prices['KFNGAS_US'] = df_prices['KFNGAS_US'] / 0.000001055056\n",
    "df_prices['KFNGAS_JP'] = df_prices['KFNGAS_JP'] / 0.000001055056\n",
    "\n",
    "df_prices = df_prices.reindex(range(model_start_year, model_end_year+1))\n",
    "\n",
    "print(df_prices)\n",
    "\n",
    "df_prices\n",
    "\n",
    "df_prices = df_prices.interpolate()\n",
    "\n",
    "## Need to create: REGION,TECHNOLOGY,MODE_OF_OPERATION,YEAR,VALUE"
   ]
  },
  {
   "cell_type": "markdown",
   "metadata": {},
   "source": [
    "### Map costs to technologies by region/country\n",
    "\n",
    "Haven't done anything below this yet...\n"
   ]
  },
  {
   "cell_type": "code",
   "execution_count": 48,
   "metadata": {},
   "outputs": [
    {
     "ename": "NameError",
     "evalue": "name 'df_gen' is not defined",
     "output_type": "error",
     "traceback": [
      "\u001b[1;31m---------------------------------------------------------------------------\u001b[0m",
      "\u001b[1;31mNameError\u001b[0m                                 Traceback (most recent call last)",
      "\u001b[1;32m<ipython-input-48-b47b0226964a>\u001b[0m in \u001b[0;36m<module>\u001b[1;34m\u001b[0m\n\u001b[0;32m      1\u001b[0m \u001b[0mgen_cols_2\u001b[0m \u001b[1;33m=\u001b[0m \u001b[1;33m[\u001b[0m\u001b[1;34m\"Commission Date\"\u001b[0m\u001b[1;33m,\u001b[0m \u001b[1;34m\"Heat Rate\"\u001b[0m\u001b[1;33m,\u001b[0m \u001b[1;34m\"Max Capacity\"\u001b[0m\u001b[1;33m,\u001b[0m \u001b[1;34m\"total_capacity\"\u001b[0m\u001b[1;33m]\u001b[0m\u001b[1;33m\u001b[0m\u001b[1;33m\u001b[0m\u001b[0m\n\u001b[1;32m----> 2\u001b[1;33m \u001b[0mdf_gen_2\u001b[0m \u001b[1;33m=\u001b[0m \u001b[0mdf_gen\u001b[0m\u001b[1;33m[\u001b[0m\u001b[0mgen_cols_2\u001b[0m\u001b[1;33m]\u001b[0m\u001b[1;33m\u001b[0m\u001b[1;33m\u001b[0m\u001b[0m\n\u001b[0m\u001b[0;32m      3\u001b[0m \u001b[1;33m\u001b[0m\u001b[0m\n\u001b[0;32m      4\u001b[0m \u001b[1;31m## Compile dataframe with powerplants, nodes, and fuels\u001b[0m\u001b[1;33m\u001b[0m\u001b[1;33m\u001b[0m\u001b[1;33m\u001b[0m\u001b[0m\n\u001b[0;32m      5\u001b[0m \u001b[0mdf_dict_fuel\u001b[0m \u001b[1;33m=\u001b[0m \u001b[0mdf_dict\u001b[0m\u001b[1;33m[\u001b[0m\u001b[0mdf_dict\u001b[0m\u001b[1;33m[\u001b[0m\u001b[1;34m\"collection\"\u001b[0m\u001b[1;33m]\u001b[0m \u001b[1;33m==\u001b[0m \u001b[1;34m\"Fuels\"\u001b[0m\u001b[1;33m]\u001b[0m\u001b[1;33m\u001b[0m\u001b[1;33m\u001b[0m\u001b[0m\n",
      "\u001b[1;31mNameError\u001b[0m: name 'df_gen' is not defined"
     ]
    }
   ],
   "source": [
    "gen_cols_2 = [\"Commission Date\", \"Heat Rate\", \"Max Capacity\", \"total_capacity\"]\n",
    "df_gen_2 = df_gen[gen_cols_2]\n",
    "\n",
    "## Compile dataframe with powerplants, nodes, and fuels\n",
    "df_dict_fuel = df_dict[df_dict[\"collection\"] == \"Fuels\"]\n",
    "df_dict_fuel = df_dict_fuel[[\"powerplant\", \"child_object\"]]\n",
    "df_dict_nodes = df_dict[df_dict[\"collection\"] == \"Nodes\"]\n",
    "df_dict_nodes = df_dict_nodes[[\"powerplant\", \"child_object\"]]\n",
    "df_dict_2 = pd.merge(df_dict_fuel, df_dict_nodes, how=\"outer\", on=\"powerplant\")\n",
    "\n",
    "## Merge original generator dataframe with nodes and fuels\n",
    "df_gen_2 = pd.merge(df_gen_2, df_dict_2, how=\"outer\", on=\"powerplant\")\n",
    "df_gen_2.rename(\n",
    "    {\"child_object_x\": \"fuel\", \"child_object_y\": \"node\"}, axis=1, inplace=True\n",
    ")\n",
    "\n",
    "## Extract start year from Commission Date\n",
    "df_gen_2[\"Commission Date\"] = pd.to_datetime(df_gen_2[\"Commission Date\"])\n",
    "df_gen_2[\"start_year\"] = df_gen_2[\"Commission Date\"].dt.year\n",
    "df_gen_2.drop(\"Commission Date\", axis=1, inplace=True)\n",
    "\n",
    "## Calculate efficiency from heat rate. Units of heat rate in MJ/kWh\n",
    "df_gen_2[\"efficiency\"] = 3.6 / df_gen_2[\"Heat Rate\"].astype(float)\n",
    "df_gen_2.drop(\"Heat Rate\", axis=1, inplace=True)\n",
    "\n",
    "## Calcluate years of operation from start year until 2015\n",
    "df_gen_2[\"years_of_operation\"] = model_start_year - df_gen_2[\"start_year\"]\n",
    "\n",
    "## Fix blank spaces in 'fuels' columns. Appearing for 'Oil' powerplants in certain countries\n",
    "df_gen_2.loc[df_gen_2[\"fuel\"].isna(), \"fuel\"] = (\n",
    "    df_gen_2[\"node\"].str.split(\"-\").str[:2].str.join(\"-\")\n",
    "    + \" \"\n",
    "    + df_gen_2[\"powerplant\"].str.split(\"_\", expand=True)[1]\n",
    ")"
   ]
  },
  {
   "cell_type": "code",
   "execution_count": null,
   "metadata": {},
   "outputs": [],
   "source": [
    "## Create column for technology\n",
    "df_gen_2[\"technology\"] = df_gen_2[\"powerplant\"].str.split(\"_\").str[1]\n",
    "df_gen_2[\"technology\"] = df_gen_2[\"technology\"].str.title()\n",
    "\n",
    "\n",
    "## Divide Gas into CCGT and OCGT based on max capacity\n",
    "df_gen_2.loc[\n",
    "    (df_gen_2[\"technology\"] == \"Gas\") & (df_gen_2[\"Max Capacity\"].astype(float) > 130),\n",
    "    \"technology\",\n",
    "] = \"Gas-CCGT\"\n",
    "df_gen_2.loc[\n",
    "    (df_gen_2[\"technology\"] == \"Gas\") & (df_gen_2[\"Max Capacity\"].astype(float) <= 130),\n",
    "    \"technology\",\n",
    "] = \"Gas-OCGT\""
   ]
  },
  {
   "cell_type": "markdown",
   "metadata": {},
   "source": [
    "### Create table with aggregated capacity  "
   ]
  },
  {
   "cell_type": "code",
   "execution_count": null,
   "metadata": {},
   "outputs": [],
   "source": [
    "df_gen_agg_node = df_gen_2[df_gen_2['start_year']<=model_start_year]\n",
    "df_gen_agg_node = df_gen_agg_node.groupby(['node', 'technology'], \n",
    "                                          as_index=False)['total_capacity'].sum()\n",
    "df_gen_agg_node = df_gen_agg_node.pivot(index='node', \n",
    "                                        columns='technology', \n",
    "                                        values='total_capacity').fillna(0).reset_index()\n",
    "\n",
    "df_gen_agg_node.drop('Sto', axis=1, inplace=True) # Drop 'Sto' technology. Only for USA.\n",
    "\n",
    "# Add extra nodes which exist in 2050 but are not in the 2015 data\n",
    "node_list = list(df_gen_agg_node['node'].unique())\n",
    "nodes_extra_df = pd.DataFrame(columns=['node'])\n",
    "nodes_extra_list = ['AF-SOM',\n",
    "                    'AF-TCD',\n",
    "                    'AS-TLS',\n",
    "                    'EU-MLT',\n",
    "                    'NA-BLZ',\n",
    "                    'NA-HTI',\n",
    "                    'SA-BRA-J1',\n",
    "                    'SA-BRA-J2',\n",
    "                    'SA-BRA-J3',\n",
    "                    'SA-SUR',]\n",
    "nodes_extra_df['node'] = nodes_extra_list\n",
    "\n",
    "df_gen_agg_node = df_gen_agg_node.append(nodes_extra_df,\n",
    "                                         ignore_index=True,\n",
    "                                         sort='False').fillna(0).sort_values(by='node').set_index('node').round(2)\n",
    "#df_gen_agg_node.to_csv(r'output/test_output_2.csv')"
   ]
  },
  {
   "cell_type": "markdown",
   "metadata": {},
   "source": [
    "### Add region and country code columns"
   ]
  },
  {
   "cell_type": "code",
   "execution_count": null,
   "metadata": {},
   "outputs": [],
   "source": [
    "df_gen_2['region_code'] = df_gen_2['node'].str[:2]\n",
    "df_gen_2['country_code'] = df_gen_2['node'].str[3:]"
   ]
  },
  {
   "cell_type": "markdown",
   "metadata": {},
   "source": [
    "### Add operational life column"
   ]
  },
  {
   "cell_type": "code",
   "execution_count": null,
   "metadata": {},
   "outputs": [],
   "source": [
    "op_life_dict = dict(zip(list(df_op_life['tech']),\n",
    "                        list(df_op_life['years'])))\n",
    "\n",
    "df_gen_2['operational_life'] = df_gen_2['technology'].map(op_life_dict)\n",
    "df_gen_2['retirement_year_data'] = (df_gen_2['operational_life'] \n",
    "                                    + df_gen_2['start_year'])\n",
    "df_gen_2['retirement_diff'] = ((df_gen_2['years_of_operation'] \n",
    "                               - df_gen_2['operational_life'])/\n",
    "                               df_gen_2['operational_life'])\n",
    "\n",
    "''' Set retirement year based on years of operation. \n",
    "If (years of operation - operational life) is more than 50% of \n",
    "operational life, set retirement year\n",
    "'''\n",
    "df_gen_2.loc[df_gen_2['retirement_diff'] >= 0.5, \n",
    "             'retirement_year_model'] = 2025\n",
    "df_gen_2.loc[(df_gen_2['retirement_diff'] < 0.5) &\n",
    "             (df_gen_2['retirement_diff'] > 0), \n",
    "             'retirement_year_model'] = 2030\n",
    "df_gen_2.loc[df_gen_2['retirement_diff'] <= 0, \n",
    "             'retirement_year_model'] = df_gen_2['retirement_year_data']\n",
    "\n",
    "#df_gen_2.to_csv(r'output/test_output_3.csv')"
   ]
  },
  {
   "cell_type": "markdown",
   "metadata": {},
   "source": [
    "### Add naming convention"
   ]
  },
  {
   "cell_type": "code",
   "execution_count": null,
   "metadata": {},
   "outputs": [],
   "source": [
    "tech_code_dict = dict(zip(list(df_tech_code['tech']),\n",
    "                          list(df_tech_code['code'])))\n",
    "df_gen_2['tech_code'] = df_gen_2['technology'].map(tech_code_dict)\n",
    "\n",
    "df_gen_2.loc[df_gen_2['node'].str.len() <= 6, \n",
    "             'node_code'] = (df_gen_2['node'].\n",
    "                             str.split('-').\n",
    "                             str[1:].\n",
    "                             str.join(\"\") +\n",
    "                             'XX')\n",
    "df_gen_2.loc[df_gen_2['node'].str.len() > 6, \n",
    "             'node_code'] = (df_gen_2['node'].\n",
    "                             str.split('-').\n",
    "                             str[1:].\n",
    "                             str.join(\"\")\n",
    "                            )\n",
    "\n",
    "df_gen_2 = df_gen_2.loc[~df_gen_2['tech_code'].isna()]"
   ]
  },
  {
   "cell_type": "markdown",
   "metadata": {},
   "source": [
    "### Calculate average InputActivityRatio by node+technology and only by technology"
   ]
  },
  {
   "cell_type": "code",
   "execution_count": null,
   "metadata": {},
   "outputs": [],
   "source": [
    "df_eff = df_gen_2[['node_code',\n",
    "                   'efficiency',\n",
    "                   'tech_code']]\n",
    "\n",
    "# Average efficiency by node and technology\n",
    "df_eff_node = df_eff.groupby(['tech_code',\n",
    "                              'node_code'],\n",
    "                             as_index = False).agg('mean')\n",
    "\n",
    "df_eff_node['node_average_iar'] = ((1 / df_eff_node['efficiency']).\n",
    "                                   round(2))\n",
    "\n",
    "df_eff_node.drop('efficiency', \n",
    "                 axis = 1, \n",
    "                 inplace = True)\n",
    "\n",
    "# Average efficiency by technology\n",
    "df_eff_tech = df_eff.groupby('tech_code',\n",
    "                             as_index = False).agg('mean')\n",
    "\n",
    "df_eff_tech['tech_average_iar'] = ((1 / df_eff_tech['efficiency']).\n",
    "                                   round(2))\n",
    "\n",
    "df_eff_tech.drop('efficiency', \n",
    "                 axis = 1, \n",
    "                 inplace = True)"
   ]
  },
  {
   "cell_type": "markdown",
   "metadata": {},
   "source": [
    "### Calculate residual capacity"
   ]
  },
  {
   "cell_type": "code",
   "execution_count": null,
   "metadata": {},
   "outputs": [],
   "source": [
    "res_cap_cols = [\n",
    "    \"node_code\",\n",
    "    \"tech_code\",\n",
    "    \"total_capacity\",\n",
    "    \"start_year\",\n",
    "    \"retirement_year_model\",\n",
    "]\n",
    "\n",
    "df_res_cap = df_gen_2[res_cap_cols]\n",
    "\n",
    "for each_year in range(model_start_year, model_end_year+1):\n",
    "    df_res_cap[str(each_year)] = 0\n",
    "\n",
    "df_res_cap = pd.melt(\n",
    "    df_res_cap,\n",
    "    id_vars=res_cap_cols,\n",
    "    value_vars=[x for x in df_res_cap.columns if x not in res_cap_cols],\n",
    "    var_name=\"model_year\",\n",
    "    value_name=\"value\",\n",
    ")\n",
    "df_res_cap[\"model_year\"] = df_res_cap[\"model_year\"].astype(int)\n",
    "df_res_cap.loc[\n",
    "    (df_res_cap[\"model_year\"] >= df_res_cap[\"start_year\"])\n",
    "    & (df_res_cap[\"model_year\"] <= df_res_cap[\"retirement_year_model\"]),\n",
    "    \"value\",\n",
    "] = df_res_cap[\"total_capacity\"]\n",
    "\n",
    "df_res_cap = df_res_cap.groupby(\n",
    "    [\"node_code\", \"tech_code\", \"model_year\"], as_index=False\n",
    ")[\"value\"].sum()\n",
    "\n",
    "# Add column with naming convention\n",
    "df_res_cap['node_code'] = df_res_cap['node_code']\n",
    "df_res_cap['tech'] = ('PWR' + \n",
    "                      df_res_cap['tech_code'] + \n",
    "                      df_res_cap['node_code'] + '01'\n",
    "                     )\n",
    "# Convert total capacity from MW to GW\n",
    "df_res_cap['value'] = df_res_cap['value'].div(1000)\n",
    "\n",
    "\n",
    "df_res_cap_plot = df_res_cap[['node_code', \n",
    "                             'tech_code', \n",
    "                             'model_year', \n",
    "                             'value']]\n",
    "\n",
    "# Rename 'model_year' to 'year' and 'total_capacity' to 'value' \n",
    "df_res_cap.rename({'tech':'TECHNOLOGY',\n",
    "                   'model_year':'YEAR',\n",
    "                   'value':'VALUE'}, \n",
    "                  inplace = True,\n",
    "                  axis=1)\n",
    "# Drop 'tech_code' and 'node_code'\n",
    "df_res_cap.drop(['tech_code', 'node_code'], inplace = True, axis=1)        \n",
    "\n",
    "# Add 'REGION' column and fill 'GLOBAL' throughout\n",
    "df_res_cap['REGION'] = region_name\n",
    "\n",
    "#Reorder columns\n",
    "df_res_cap = df_res_cap[['REGION', 'TECHNOLOGY', 'YEAR', 'VALUE']]\n",
    "                     \n",
    "df_res_cap.to_csv(r\"osemosys_global_model/data/ResidualCapacity.csv\", index = None)"
   ]
  },
  {
   "cell_type": "markdown",
   "metadata": {},
   "source": [
    "### Interactive visualisation of residual capacity by node"
   ]
  },
  {
   "cell_type": "code",
   "execution_count": null,
   "metadata": {},
   "outputs": [],
   "source": [
    "import matplotlib.pyplot as plt\n",
    "import seaborn as sns; sns.set(color_codes = True)\n",
    "from ipywidgets import interact, interactive, fixed, interact_manual, Layout\n",
    "import ipywidgets as widgets\n",
    "#importing plotly and cufflinks in offline mode\n",
    "import plotly as py\n",
    "#import plotly.graph_objs as go\n",
    "import cufflinks\n",
    "import plotly.offline as pyo\n",
    "from plotly.offline import plot, iplot, init_notebook_mode\n",
    "pyo.init_notebook_mode()\n",
    "cufflinks.go_offline()\n",
    "cufflinks.set_config_file(world_readable=True, theme='white')\n",
    "\n",
    "color_codes = pd.read_csv(r'data\\color_codes.csv', encoding='latin-1')\n",
    "color_dict = dict([(n,c) for n,c in zip(color_codes.tech, color_codes.colour)])\n",
    "\n",
    "def f(node):\n",
    "    df_plot = df_res_cap_plot.loc[df_res_cap_plot['node_code']==node]\n",
    "    df_plot.drop('node_code', \n",
    "                     axis = 1, \n",
    "                     inplace = True)\n",
    "    df_plot = df_plot.pivot_table(index='model_year',\n",
    "                                  columns='tech_code',\n",
    "                                  values='value',\n",
    "                                  aggfunc='sum').reset_index()\n",
    "    \n",
    "    \n",
    "    #plt.figure(figsize=(10, 10), dpi= 80, facecolor='w', edgecolor='k')\n",
    "    #ax = sns.barplot(df_plot)\n",
    "    return df_plot.iplot(x = 'model_year',\n",
    "                         kind = 'bar', \n",
    "                         barmode = 'stack',\n",
    "                         xTitle = 'Year',\n",
    "                         yTitle = 'Gigawatts',\n",
    "                         color=[color_dict[x] for x in df_plot.columns if x != 'model_year'],\n",
    "                         title = 'Residual Capacity',\n",
    "                         showlegend = True)\n",
    "\n",
    "interact(f,\n",
    "         node=widgets.Dropdown(options = (df_res_cap_plot['node_code']\n",
    "                                          .unique()\n",
    "                                         )\n",
    "                              )\n",
    "        )\n"
   ]
  },
  {
   "cell_type": "markdown",
   "metadata": {},
   "source": [
    "### Add input and output activity ratios"
   ]
  },
  {
   "cell_type": "markdown",
   "metadata": {},
   "source": [
    "#### Create master table for activity ratios "
   ]
  },
  {
   "cell_type": "code",
   "execution_count": null,
   "metadata": {},
   "outputs": [],
   "source": [
    "node_list = list(df_gen_2['node_code'].unique())\n",
    "\n",
    "# Add extra nodes which are not present in 2015 but will be by 2050\n",
    "for each_node in nodes_extra_list:\n",
    "    if len(each_node) <= 6:\n",
    "        node_list.append(\"\".join(each_node.split('-')[1:]) + 'XX')\n",
    "    else:\n",
    "        node_list.append(\"\".join(each_node.split('-')[1:]))\n",
    "\n",
    "master_fuel_list = list(df_gen_2['tech_code'].unique())\n",
    "\n",
    "mode_list = [1,2]\n",
    "\n",
    "df_ratios = pd.DataFrame(list(itertools.product(node_list,\n",
    "                                                master_fuel_list,\n",
    "                                                mode_list,\n",
    "                                                years)\n",
    "                             ),\n",
    "                         columns = ['node_code', 'tech_code', 'MODE_OF_OPERATION', 'YEAR']\n",
    "                        )\n",
    "\n",
    "df_ratios['TECHNOLOGY'] = ('PWR' + \n",
    "                           df_ratios['tech_code'] + \n",
    "                           df_ratios['node_code'] + '01'\n",
    "                          )\n",
    "\n",
    "thermal_fuel_list = ['COA',\n",
    "                     'COG',\n",
    "                     'OCG',\n",
    "                     'CCG',\n",
    "                     'PET',\n",
    "                     'URN',\n",
    "                     'OIL',\n",
    "                     'OTH'\n",
    "                    ]\n",
    "\n",
    "thermal_fuel_list_iar = ['COA',\n",
    "                         'COG',\n",
    "                         'PET',\n",
    "                         'URN',\n",
    "                         'OIL',\n",
    "                         'OTH'\n",
    "                        ]\n",
    "\n",
    "renewables_list = ['BIO',\n",
    "                   'GEO',\n",
    "                   'HYD',\n",
    "                   'SPV', \n",
    "                   'CSP',\n",
    "                   'WAS',\n",
    "                   'WAV',\n",
    "                   'WON', \n",
    "                   'WOF']"
   ]
  },
  {
   "cell_type": "markdown",
   "metadata": {},
   "source": [
    "#### OutputActivityRatio - Power Generation Technologies"
   ]
  },
  {
   "cell_type": "code",
   "execution_count": null,
   "metadata": {},
   "outputs": [],
   "source": [
    "df_oar = df_ratios.copy()\n",
    "mask = df_oar['TECHNOLOGY'].apply(lambda x: x[3:6] in thermal_fuel_list)\n",
    "df_oar['FUEL'] = 0\n",
    "df_oar['FUEL'][mask] = 1\n",
    "df_oar = df_oar.loc[~((df_oar['MODE_OF_OPERATION'] > 1) &\n",
    "                      (df_oar['FUEL'] == 0))]\n",
    "df_oar['FUEL'] = ('ELC' + \n",
    "                  df_oar['TECHNOLOGY'].str[6:11] + \n",
    "                  '01'\n",
    "                 )\n",
    "df_oar['VALUE'] = 1\n",
    "\n",
    "# Add 'REGION' column and fill 'GLOBAL' throughout\n",
    "df_oar['REGION'] = region_name\n",
    "\n",
    "# Select columns for final output table\n",
    "df_oar_final = df_oar[['REGION', \n",
    "                 'TECHNOLOGY',\n",
    "                 'FUEL',                  \n",
    "                 'MODE_OF_OPERATION',\n",
    "                 'YEAR', \n",
    "                 'VALUE',]]\n",
    "\n",
    "# Don't write yet - we'll write the IAR and OAR at the end...\n",
    "# df_oar_final.to_csv(r\"output/OutputActivityRatio.csv\", index = None)"
   ]
  },
  {
   "cell_type": "markdown",
   "metadata": {},
   "source": [
    "#### InputActivityRatio - Power Generation Technologies"
   ]
  },
  {
   "cell_type": "code",
   "execution_count": null,
   "metadata": {},
   "outputs": [],
   "source": [
    "# Copy OAR table with all columns to IAR\n",
    "df_iar = df_oar.copy()\n",
    "\n",
    "df_iar['FUEL'] = 0\n",
    "\n",
    "# Deal with GAS techs first...  OCG and CCG\n",
    "# OCG Mode 1: Domestic GAS\n",
    "df_iar.loc[(df_iar['MODE_OF_OPERATION'] == 1) &\n",
    "           (df_iar['TECHNOLOGY'].str[3:6].isin(['OCG'])),\n",
    "           'FUEL'] = 'GAS'+df_iar['TECHNOLOGY'].str[6:9]\n",
    "# OCG Mode 2: International GAS\n",
    "df_iar.loc[(df_iar['MODE_OF_OPERATION'] == 2) &\n",
    "           (df_iar['TECHNOLOGY'].str[3:6].isin(['OCG'])),\n",
    "           'FUEL'] = 'GASINT'\n",
    "\n",
    "# CCG Mode 1: Domestic GAS\n",
    "df_iar.loc[(df_iar['MODE_OF_OPERATION'] == 1) &\n",
    "           (df_iar['TECHNOLOGY'].str[3:6].isin(['CCG'])),\n",
    "           'FUEL'] = 'GAS'+df_iar['TECHNOLOGY'].str[6:9]\n",
    "\n",
    "# CCG Mode 2: International GAS\n",
    "df_iar.loc[(df_iar['MODE_OF_OPERATION'] == 2) &\n",
    "           (df_iar['TECHNOLOGY'].str[3:6].isin(['CCG'])),\n",
    "           'FUEL'] = 'GASINT'\n",
    "\n",
    "# For non-GAS thermal fuels, domestic fuel input by country in mode 1 and \n",
    "# 'international' fuel input in mode 2\n",
    "df_iar.loc[(df_iar['MODE_OF_OPERATION'] == 1) &\n",
    "           (df_iar['TECHNOLOGY'].str[3:6].isin(thermal_fuel_list_iar)),\n",
    "           'FUEL'] = df_iar['TECHNOLOGY'].str[3:9]\n",
    "\n",
    "df_iar.loc[(df_iar['MODE_OF_OPERATION'] == 2) &\n",
    "           (df_iar['TECHNOLOGY'].str[3:6].isin(thermal_fuel_list_iar)),\n",
    "           'FUEL'] = df_iar['TECHNOLOGY'].str[3:6] + 'INT'\n",
    "\n",
    "# For renewable fuels, input by node in mode 1\n",
    "df_iar.loc[(df_iar['MODE_OF_OPERATION'] == 1) &\n",
    "           (df_iar['TECHNOLOGY'].str[3:6].isin(renewables_list)),\n",
    "           'FUEL'] = df_iar['TECHNOLOGY'].str[3:11]\n",
    "\n",
    "# Remove mode 2 when not used\n",
    "df_iar = df_iar.loc[df_iar['FUEL'] != 0]\n",
    "\n",
    "# Join efficiency columns: one with node and technology average, and the\n",
    "# other with technology average\n",
    "df_iar = df_iar.join(df_eff_node.set_index(['tech_code', 'node_code']), \n",
    "                     on=['tech_code', 'node_code'])\n",
    "\n",
    "df_iar = df_iar.join(df_eff_tech.set_index('tech_code'), \n",
    "                     on='tech_code')\n",
    "\n",
    "# When available, choose node and technology average. Else, \n",
    "# choose technology average\n",
    "df_iar['VALUE'] = df_iar['node_average_iar']\n",
    "df_iar.loc[df_iar['VALUE'].isna(),\n",
    "           'VALUE'] = df_iar['tech_average_iar']\n",
    "\n",
    "# Add 'REGION' column and fill 'GLOBAL' throughout\n",
    "df_iar['REGION'] = region_name\n",
    "\n",
    "# Select columns for final output table\n",
    "df_iar_final = df_iar[['REGION', \n",
    "                       'TECHNOLOGY',\n",
    "                       'FUEL',  \n",
    "                       'MODE_OF_OPERATION',\n",
    "                       'YEAR', \n",
    "                       'VALUE',]]\n",
    "\n",
    "# Don't write this yet - we'll write both IAR and OAR at the end...\n",
    "# df_iar_final.to_csv(r\"output/InputActivityRatio.csv\", index = None)"
   ]
  },
  {
   "cell_type": "markdown",
   "metadata": {},
   "source": [
    "#### OutputActivityRatios - Upstream"
   ]
  },
  {
   "cell_type": "code",
   "execution_count": null,
   "metadata": {},
   "outputs": [],
   "source": [
    "thermal_fuels = ['COA',\n",
    "                 'COG',\n",
    "                 'GAS',\n",
    "                 'PET',\n",
    "                 'URN',\n",
    "                 'OIL',\n",
    "                 'OTH'\n",
    "                    ]\n",
    "\n",
    "# We have to create a technology to produce every fuel that is input into any of the power technologies:\n",
    "\n",
    "df_oar_upstream = df_iar_final.copy()\n",
    "\n",
    "# All mining and resource technologies have an OAR of 1...\n",
    "df_oar_upstream['VALUE'] = 1\n",
    "\n",
    "# Renewables - set the technology as RNW + FUEL\n",
    "df_oar_upstream.loc[df_oar_upstream['FUEL'].str[0:3].isin(renewables_list),\n",
    "           'TECHNOLOGY'] = 'RNW'+df_oar_upstream['FUEL']\n",
    "\n",
    "# If the fuel is a thermal fuel, we need to create the OAR for the mining technology... BUT NOT FOR THE INT FUELS...\n",
    "df_oar_upstream.loc[df_oar_upstream['FUEL'].str[0:3].isin(thermal_fuels) & ~(df_oar_upstream['FUEL'].str[3:6] == \"INT\"),\n",
    "           'TECHNOLOGY'] = 'MIN'+df_oar_upstream['FUEL']\n",
    "\n",
    "# Above should get all the outputs for the MIN technologies, but we need to adjust the mode 2 ones to just the fuel code (rather than MINCOAINT)\n",
    "df_oar_upstream.loc[df_oar_upstream['MODE_OF_OPERATION']==2,\n",
    "           'TECHNOLOGY'] = 'MIN'+df_oar_upstream['FUEL'].str[0:3]+df_oar_upstream['TECHNOLOGY'].str[6:9]\n",
    "df_oar_upstream.loc[df_oar_upstream['MODE_OF_OPERATION']==2,\n",
    "           'FUEL'] = df_oar_upstream['FUEL'].str[0:3]\n",
    "\n",
    "# Now remove the duplicate fuels that the above created (because there's now a COA for each country, not each region, and GAS is repeated twice for each region as well):\n",
    "df_oar_upstream.drop_duplicates(keep='first',inplace=True)\n",
    "\n",
    "# Now we have to create the MINXXXINT technologies.  They are all based on the MODE_OF_OPERATION == 2:\n",
    "df_oar_int = pd.DataFrame(df_oar_upstream.loc[df_oar_upstream['MODE_OF_OPERATION'] == 2, :])\n",
    "\n",
    "# At this point we should have only the internationally traded fuels since they're all mode 2.  So we can make the tech MINXXXINT and that's that.\n",
    "df_oar_int['TECHNOLOGY'] = 'MIN'+df_oar_int['FUEL']+'INT'\n",
    "# And rename the fuel to XXXINT\n",
    "df_oar_int['FUEL'] = df_oar_int['FUEL']+'INT'\n",
    "df_oar_int['MODE_OF_OPERATION'] = 1  # This is probably not strictly necessary as long as they're always the same in and out...\n",
    "\n",
    "# and de-duplicate this list:\n",
    "df_oar_int.drop_duplicates(keep='first',inplace=True)"
   ]
  },
  {
   "cell_type": "markdown",
   "metadata": {},
   "source": [
    "#### Input Activity Ratios - Upstream"
   ]
  },
  {
   "cell_type": "code",
   "execution_count": null,
   "metadata": {},
   "outputs": [],
   "source": [
    "# All we need to do is take in the thermal fuels for the MINXXXINT technologies.  This already exists as df_oar_int with the XXINT fuel so we can simply copy that:\n",
    "df_iar_int = df_oar_int.copy()\n",
    "df_iar_int['FUEL'] = df_iar_int['FUEL'].str[0:3]"
   ]
  },
  {
   "cell_type": "markdown",
   "metadata": {},
   "source": [
    "#### Downstream Activity Ratios"
   ]
  },
  {
   "cell_type": "code",
   "execution_count": null,
   "metadata": {},
   "outputs": [],
   "source": [
    "df_iar_trn = df_oar_final.copy()\n",
    "\n",
    "# Change the technology name to PWRTRNXXXXX\n",
    "df_iar_trn['TECHNOLOGY'] = 'PWRTRN'+df_iar_trn['FUEL'].str[3:8]\n",
    "# Make all modes of operation 1\n",
    "df_iar_trn['MODE_OF_OPERATION'] = 1\n",
    "# And remove all the duplicate entries\n",
    "df_iar_trn.drop_duplicates(keep='first',inplace=True)\n",
    "\n",
    "# OAR for transmission technologies is IAR, but the fuel is 02 instead of 01:\n",
    "df_oar_trn = df_iar_trn.copy()\n",
    "df_oar_trn['FUEL'] = df_oar_trn['FUEL'].str[0:8]+'02'\n",
    "\n",
    "# Build international transmission system from original input data, but for Line rather than Generator:\n",
    "int_trn_cols = [\"child_class\", \"child_object\", \"property\", \"value\"]\n",
    "df_int_trn = df[int_trn_cols]\n",
    "df_int_trn = df_int_trn[df_int_trn[\"child_class\"] == \"Line\"]\n",
    "\n",
    "# For IAR and OAR we can drop the value:\n",
    "df_int_trn = df_int_trn.drop(['child_class', 'value'], axis=1)\n",
    "\n",
    "# Create MofO column based on property:\n",
    "df_int_trn['MODE_OF_OPERATION'] = 1\n",
    "df_int_trn.loc[df_int_trn['property'] == \"Min Flow\", 'MODE_OF_OPERATION'] = 2\n",
    "\n",
    "# Use the child_object column to build the technology names:\n",
    "df_int_trn['codes'] = df_int_trn['child_object'].str.split(pat = \"-\")\n",
    "\n",
    "# If there are only two locations, then the node is XX\n",
    "df_int_trn.loc[df_int_trn['codes'].str.len() == 2, 'TECHNOLOGY'] = 'TRN' + df_int_trn['codes'].str[0] + 'XX' + df_int_trn['codes'].str[1] + 'XX'\n",
    "# If there are four locations, the noce is already included\n",
    "df_int_trn.loc[df_int_trn['codes'].str.len() == 4, 'TECHNOLOGY'] = 'TRN' + df_int_trn['codes'].str[0] + df_int_trn['codes'].str[1] + df_int_trn['codes'].str[2] + df_int_trn['codes'].str[3]\n",
    "# If there are three items, and the last item is two characters, then the second item is an XX:\n",
    "df_int_trn.loc[(df_int_trn['codes'].str.len() == 3) & (df_int_trn['codes'].str[0].str.len() == 2), 'TECHNOLOGY'] = 'TRN' + df_int_trn['codes'].str[0] + 'XX' + df_int_trn['codes'].str[1] + df_int_trn['codes'].str[2]\n",
    "# If there are three items, and the last item is three characters, then the last item is an XX:\n",
    "df_int_trn.loc[(df_int_trn['codes'].str.len() == 3) & (df_int_trn['codes'].str[1].str.len() == 3), 'TECHNOLOGY'] = 'TRN' + df_int_trn['codes'].str[0] + 'XX'+ df_int_trn['codes'].str[1] + df_int_trn['codes'].str[2]\n",
    "\n",
    "# Set the value (of either IAR or OAR) to 1\n",
    "df_int_trn['VALUE'] = 1\n",
    "df_int_trn['REGION'] = region_name\n",
    "\n",
    "df_int_trn = df_int_trn.drop(['property', 'child_object', 'codes'], axis=1)\n",
    "df_int_trn['YEAR'] = model_start_year\n",
    "# Add in the years:\n",
    "df_temp = df_int_trn.copy()\n",
    "for year in range(model_start_year + 1, model_end_year+1):\n",
    "    df_temp['YEAR'] = year\n",
    "    df_int_trn = df_int_trn.append(df_temp)\n",
    "\n",
    "df_int_trn = df_int_trn.reset_index(drop=True)\n",
    "\n",
    "# Now create the input and output activity ratios\n",
    "df_int_trn_oar = df_int_trn.copy()\n",
    "df_int_trn_iar = df_int_trn.copy()\n",
    "\n",
    "# IAR Mode 1 is input from first country:\n",
    "df_int_trn_iar.loc[df_int_trn_iar['MODE_OF_OPERATION'] == 1, 'FUEL'] = 'ELC' + df_int_trn_iar['TECHNOLOGY'].str[3:8] + '02'\n",
    "# IAR Mode 2 is input from second country:\n",
    "df_int_trn_iar.loc[df_int_trn_iar['MODE_OF_OPERATION'] == 2, 'FUEL'] = 'ELC' + df_int_trn_iar['TECHNOLOGY'].str[8:13] + '02'\n",
    "\n",
    "# OAR Mode 2 is output to first country:\n",
    "df_int_trn_oar.loc[df_int_trn_oar['MODE_OF_OPERATION'] == 2, 'FUEL'] = 'ELC' + df_int_trn_iar['TECHNOLOGY'].str[3:8] + '01'\n",
    "# OAR Mode 1 is out to the second country:\n",
    "df_int_trn_oar.loc[df_int_trn_oar['MODE_OF_OPERATION'] == 1, 'FUEL'] = 'ELC' + df_int_trn_iar['TECHNOLOGY'].str[8:13] + '01'"
   ]
  },
  {
   "cell_type": "markdown",
   "metadata": {},
   "source": [
    "#### Output IAR and OAR"
   ]
  },
  {
   "cell_type": "code",
   "execution_count": null,
   "metadata": {},
   "outputs": [],
   "source": [
    "# Combine the pieces from above and output to csv:\n",
    "\n",
    "df_oar_final = df_oar_final.append(df_oar_upstream) # add upstream production technologies\n",
    "df_oar_final = df_oar_final.append(df_oar_int) # Add in path through international markets\n",
    "df_oar_final = df_oar_final.append(df_oar_trn) # Add in domestic transmission\n",
    "df_oar_final = df_oar_final.append(df_int_trn_oar) # Add in international transmission\n",
    "\n",
    "# Select columns for final output table\n",
    "df_oar_final = df_oar_final.dropna()\n",
    "df_oar_final = df_oar_final[['REGION', \n",
    "                             'TECHNOLOGY',\n",
    "                             'FUEL',  \n",
    "                             'MODE_OF_OPERATION',\n",
    "                             'YEAR', \n",
    "                             'VALUE',]]\n",
    "\n",
    "df_iar_final = df_iar_final.append(df_iar_int) # Add in path through international markets\n",
    "df_iar_final = df_iar_final.append(df_iar_trn) # Add in domestic transmission\n",
    "df_iar_final = df_iar_final.append(df_int_trn_iar) # Add in international transmission\n",
    "\n",
    "# Select columns for final output table\n",
    "df_iar_final = df_iar_final.dropna()\n",
    "df_iar_final = df_iar_final[['REGION', \n",
    "                             'TECHNOLOGY',\n",
    "                             'FUEL',  \n",
    "                             'MODE_OF_OPERATION',\n",
    "                             'YEAR', \n",
    "                             'VALUE',]]\n",
    "\n",
    "df_oar_final.to_csv(r\"osemosys_global_model/data/OutputActivityRatio.csv\", index = None)\n",
    "df_iar_final.to_csv(r\"osemosys_global_model/data/InputActivityRatio.csv\", index = None)"
   ]
  },
  {
   "cell_type": "markdown",
   "metadata": {},
   "source": [
    "### Costs: Capital, fixed, and variable"
   ]
  },
  {
   "cell_type": "code",
   "execution_count": null,
   "metadata": {},
   "outputs": [],
   "source": []
  },
  {
   "cell_type": "markdown",
   "metadata": {},
   "source": [
    "## Create sets for TECHNOLOGIES, FUELS"
   ]
  },
  {
   "cell_type": "code",
   "execution_count": null,
   "metadata": {},
   "outputs": [],
   "source": [
    "def create_sets(x):\n",
    "    set_elements = list(df_iar_final[x].unique()) + list(df_oar_final[x].unique())\n",
    "    set_elements = list(set(set_elements))\n",
    "    set_elements.sort()\n",
    "    set_elements_df = pd.DataFrame(set_elements, columns = ['VALUE'])\n",
    "    return set_elements_df.to_csv(os.path.join(r'osemosys_global_model/data/',\n",
    "                                               str(x) + '.csv'\n",
    "                                              ),\n",
    "                                  index = None\n",
    "                                 )\n",
    "\n",
    "create_sets('TECHNOLOGY')\n",
    "create_sets('FUEL')                             "
   ]
  },
  {
   "cell_type": "markdown",
   "metadata": {},
   "source": [
    "## Create set for YEAR, REGION, MODE_OF_OPERATION"
   ]
  },
  {
   "cell_type": "code",
   "execution_count": null,
   "metadata": {},
   "outputs": [],
   "source": [
    "years_df = pd.DataFrame(years, columns = ['VALUE'])\n",
    "years_df.to_csv(r'osemosys_global_model/data/YEAR.csv',\n",
    "                index = None)\n",
    "\n",
    "mode_list_df = pd.DataFrame(mode_list, columns = ['VALUE'])\n",
    "mode_list_df.to_csv(r'osemosys_global_model/data/MODE_OF_OPERATION.csv',\n",
    "                    index = None)\n",
    "\n",
    "regions_df = pd.DataFrame(columns = ['VALUE'])\n",
    "regions_df.loc[0] = region_name\n",
    "regions_df.to_csv(r'osemosys_global_model/data/REGION.csv',\n",
    "                index = None)"
   ]
  },
  {
   "cell_type": "markdown",
   "metadata": {},
   "source": [
    "## Create set for EMISSION "
   ]
  },
  {
   "cell_type": "code",
   "execution_count": null,
   "metadata": {},
   "outputs": [],
   "source": [
    "emissions_df = pd.DataFrame(emissions, columns = ['VALUE'])\n",
    "emissions_df.to_csv(r'osemosys_global_model/data/EMISSION.csv',\n",
    "                index = None)"
   ]
  },
  {
   "cell_type": "code",
   "execution_count": null,
   "metadata": {},
   "outputs": [],
   "source": []
  }
 ],
 "metadata": {
  "kernelspec": {
   "display_name": "Python 3",
   "language": "python",
   "name": "python3"
  },
  "language_info": {
   "codemirror_mode": {
    "name": "ipython",
    "version": 3
   },
   "file_extension": ".py",
   "mimetype": "text/x-python",
   "name": "python",
   "nbconvert_exporter": "python",
   "pygments_lexer": "ipython3",
   "version": "3.8.3"
  }
 },
 "nbformat": 4,
 "nbformat_minor": 2
}
