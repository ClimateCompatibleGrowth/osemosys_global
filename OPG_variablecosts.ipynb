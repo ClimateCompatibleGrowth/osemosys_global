{
 "cells": [
  {
   "cell_type": "markdown",
   "metadata": {},
   "source": [
    "# OSeMOSYS-PLEXOS global model: Powerplant data"
   ]
  },
  {
   "cell_type": "markdown",
   "metadata": {},
   "source": [
    "### Import modules"
   ]
  },
  {
   "cell_type": "code",
   "execution_count": 7,
   "metadata": {},
   "outputs": [],
   "source": [
    "import pandas as pd\n",
    "pd.options.mode.chained_assignment = None  # default='warn'\n",
    "import numpy as np\n",
    "import itertools\n",
    "\n",
    "%reload_ext blackcellmagic"
   ]
  },
  {
   "cell_type": "markdown",
   "metadata": {},
   "source": [
    "### Import data files and user input"
   ]
  },
  {
   "cell_type": "code",
   "execution_count": 8,
   "metadata": {},
   "outputs": [],
   "source": [
    "## Data for variable costs of fuels taken from World Bank Commodity Market Outlooks:\n",
    "##    https://www.worldbank.org/en/research/commodity-markets\n",
    "## Download the 'Charts and Data' zip file and extract the forecasts file (CMO-April-2020-forecasts.xlsx).\n",
    "## Adjust filename below for forecasts done at a different date.\n",
    "\n",
    "# Read in World Bank Commodity Price Outlook - we only want rows 87 - 91\n",
    "# using 85 as the headers (years) and skipping the energy header...\n",
    "\n",
    "#### REPLACE FROM BELOW ONCE FIGURED OUT...df_prices = pd.read_excel(\n",
    "df_prices = pd.read_excel(\n",
    "    \"data/CMO-April-2020-forecasts.xlsx\", header=1, skiprows=83, nrows=6\n",
    ")\n",
    "\n",
    "# Read in Technologies\n",
    "df_techs = pd.read_csv(r\"osemosys_global_model/data/TECHNOLOGY.csv\")\n",
    "\n",
    "model_start_year = 2015\n",
    "model_end_year = 2050\n",
    "years = [range(model_start_year, model_end_year + 1)]\n",
    "\n",
    "region_name = \"GLOBAL\"\n",
    "emissions = []"
   ]
  },
  {
   "cell_type": "markdown",
   "metadata": {},
   "source": [
    "### Filter technologies to keep only fuel production technologies (MIN)"
   ]
  },
  {
   "cell_type": "code",
   "execution_count": 9,
   "metadata": {},
   "outputs": [],
   "source": [
    "df_techs = df_techs[df_techs.VALUE.str.contains('MIN')]\n",
    "\n",
    "df_techs['REGION'] = region_name\n",
    "df_techs['MODE_OF_OPERATION'] = 1\n",
    "df_techs_temp = df_techs.copy()\n",
    "df_techs_temp['MODE_OF_OPERATION'] = 2\n",
    "df_techs = pd.concat([df_techs,df_techs_temp])\n",
    "df_techs.rename(columns={'VALUE':'TECHNOLOGY'}, inplace=True)\n",
    "\n",
    "\n",
    "df_techs['YEAR'] = [range(model_start_year, model_end_year+1)] * len(df_techs)\n",
    "\n",
    "df_techs = df_techs.explode('YEAR')\n",
    "\n",
    "df_techs.reset_index(drop=True, inplace=True)\n",
    "\n",
    "# print(df_techs)"
   ]
  },
  {
   "cell_type": "markdown",
   "metadata": {},
   "source": [
    "### Cleanup prices from CMO data"
   ]
  },
  {
   "cell_type": "code",
   "execution_count": 10,
   "metadata": {},
   "outputs": [
    {
     "name": "stdout",
     "output_type": "stream",
     "text": [
      "YEAR   MINCOA   MINOIL   MINGAS KFNGAS_US KFNGAS_JP\n",
      "2014  2.21101  14.5306   8.8037     3.827   14.0448\n",
      "2015  2.05491  8.47446  6.60675   2.53154   10.5909\n",
      "2016  2.39914  7.43927  4.59973   2.51204   7.43109\n",
      "2017   3.1032  8.86575  5.56786   2.88238   8.38155\n",
      "2018  3.58755  10.9726  7.15352   2.93816   9.93625\n",
      "2019  2.67126  10.0866  4.57563   2.44475   10.0656\n",
      "2020  2.24031  5.77733  2.96823   1.91498   8.33018\n",
      "2021  2.30686  6.82379  3.86399   2.16761   8.38769\n",
      "2022  2.23751  7.10327  4.03303   2.26708   8.20741\n",
      "2023  2.16897  7.38989  4.20702   2.36974   8.02633\n",
      "2024  2.10155  7.68445  4.38643   2.47587   7.84554\n",
      "2025   2.0354  7.98755  4.57168   2.58573   7.66576\n",
      "2030  1.72663  9.64738   5.5961   3.19777   6.79526\n"
     ]
    }
   ],
   "source": [
    "df_prices = df_prices.drop([0], axis=0)\n",
    "df_prices = df_prices.drop([\"Commodity\"], axis=1)\n",
    "columns = df_prices.columns.values\n",
    "columns[0] = \"YEAR\"\n",
    "df_prices = df_prices.loc[:, ~df_prices.columns.str.contains('^Unnamed', na=False)]\n",
    "\n",
    "df_prices = df_prices.transpose()\n",
    "\n",
    "# use commodity key as header\n",
    "new_header = df_prices.iloc[0] #grab the first row for the header\n",
    "df_prices = df_prices[1:] #take the data less the header row\n",
    "new_header[1] = 'MINCOA'  # This was KFCOAL_AUS  KFCRUDE_PETRO  KFNGAS_EUR\n",
    "new_header[2] = 'MINOIL'  # This was KFCRUDE_PETRO\n",
    "new_header[3] = 'MINGAS'  # This was KFNGAS_EUR\n",
    "df_prices.columns = new_header #set the header row as the df header\n",
    "\n",
    "# drop units as we're doing $/PJ\n",
    "df_prices = df_prices.drop(\"Unit\", axis = 0)\n",
    "\n",
    "# And convert to $/PJ\n",
    "# Values taken from kylesconverter.com:\n",
    "#  1 MT coal contains 29.31 PJ (1,000,000 tonnes coal) Original was $/mt ($/tonne I think).  We want $mill/PJ so divide by 29.31\n",
    "#  1 MMBtu = 0.000001055056 PJ Original was MMBtu and we want $mill/pJ, so divide by 1.055056.\n",
    "#  1 bbl = 0.00000612 PJ (Barrels of Oil) Original was $/bbl so divide by 0.00000612 and multiply by 1000000\n",
    "# NOT ENTIRELY SURE I'M CALCULATING THE UNITS CORRECTLY (NOT SURE WHAT ORIGINAL UNITS WERE AS IT'S NOT STATED ANYWHERE)\n",
    "\n",
    "# ORIGINAL UNITS:\n",
    "#       KFCOAL_AUS KFCRUDE_PETRO KFNGAS_EUR KFNGAS_US KFNGAS_JP\n",
    "#Unit       $/mt         $/bbl    $/mmbtu   $/mmbtu   $/mmbtu\n",
    "\n",
    "df_prices['MINCOA'] = df_prices['MINCOA'] / 29.31\n",
    "df_prices['MINOIL'] = df_prices['MINOIL'] / 0.00000612 / 1000000\n",
    "df_prices['MINGAS'] = df_prices['MINGAS'] / 1.055056\n",
    "df_prices['KFNGAS_US'] = df_prices['KFNGAS_US'] / 1.055056\n",
    "df_prices['KFNGAS_JP'] = df_prices['KFNGAS_JP'] / 1.055056\n",
    "\n",
    "print(df_prices)\n",
    "\n",
    "# Add in other fuels that are the same as those above:\n",
    "df_prices['MINCOG'] = df_prices['MINGAS']  # Cogen is powered by gas\n",
    "df_prices['MINOTH'] = df_prices['MINOIL']  # Other petroleum products are similar to oil\n",
    "df_prices['MINPET'] = df_prices['MINOIL']  # Petroleum products are similar to oil\n",
    "\n",
    "# And add in international prices that are 15% higher than the regular ones:\n",
    "df_prices['INTCOA'] = df_prices['MINCOA'] * 0.15\n",
    "df_prices['INTOIL'] = df_prices['MINOIL'] * 0.15\n",
    "df_prices['INTGAS'] = df_prices['MINGAS'] * 0.15\n",
    "df_prices['INTCOG'] = df_prices['MINCOG'] * 0.15\n",
    "df_prices['INTOTH'] = df_prices['MINOTH'] * 0.15\n",
    "df_prices['INTPET'] = df_prices['MINPET'] * 0.15\n",
    "\n",
    "df_prices = df_prices.reindex(range(model_start_year, model_end_year+1))\n",
    "\n",
    "df_prices = df_prices.apply(pd.to_numeric)\n",
    "\n",
    "df_prices = df_prices.interpolate()\n",
    "\n",
    "col = df_prices.columns\n",
    "df_prices = pd.melt(df_prices.reset_index(), id_vars='index', value_vars=col)\n",
    "\n",
    "df_prices = df_prices.rename(columns={'index': 'YEAR', 'YEAR': 'TEMPTECH'})\n",
    "\n",
    "# print(df_prices)"
   ]
  },
  {
   "cell_type": "markdown",
   "metadata": {},
   "source": [
    "### Map costs to technologies by region/country"
   ]
  },
  {
   "cell_type": "code",
   "execution_count": 11,
   "metadata": {
    "scrolled": true
   },
   "outputs": [],
   "source": [
    "## Need to create: REGION,TECHNOLOGY,MODE_OF_OPERATION,YEAR,VALUE\n",
    "\n",
    "# Setup TEMPTECH column for merge\n",
    "df_techs['TEMPTECH'] = df_techs['TECHNOLOGY'].str[0:6]\n",
    "\n",
    "# International costs are identified by the INT in MINCOAINT, so make these INTCOA temporarily\n",
    "df_techs.loc[df_techs.TECHNOLOGY.str[6:9]=='INT', 'TEMPTECH'] = 'INT'+df_techs['TECHNOLOGY'].str[3:6]\n",
    "\n",
    "df_varcost = pd.merge(df_techs, df_prices, on=['YEAR', 'TEMPTECH'])\n",
    "\n",
    "df_varcost = df_varcost.rename(columns={'value': 'VALUE'})\n",
    "\n",
    "df_varcost = df_varcost.drop(['TEMPTECH'], axis=1)\n",
    "\n",
    "# print(df_varcost)\n",
    "\n",
    "## AND THEN DROP ANY ITEMS THAT HAVE A NAN AS THESE ARE DEFAULT (0) VALUES\n",
    "## BUT THIS IS ALREADY DONE FOR US BY THE MERGE\n",
    "#df_techs.dropna(subset = [\"VALUE\"], inplace=True)\n",
    "#print(df_techs)"
   ]
  },
  {
   "cell_type": "markdown",
   "metadata": {},
   "source": [
    "### Write out variablecost.csv"
   ]
  },
  {
   "cell_type": "code",
   "execution_count": 12,
   "metadata": {},
   "outputs": [
    {
     "name": "stdout",
     "output_type": "stream",
     "text": [
      "finished\n"
     ]
    }
   ],
   "source": [
    "df_varcosts_final = df_varcost[['REGION', \n",
    "                       'TECHNOLOGY', \n",
    "                       'MODE_OF_OPERATION',\n",
    "                       'YEAR', \n",
    "                       'VALUE']]\n",
    "\n",
    "df_varcosts_final.to_csv(r\"osemosys_global_model/data/VariableCost.csv\", mode='a', header=False, index = None)\n",
    "\n",
    "print('finished')"
   ]
  }
 ],
 "metadata": {
  "kernelspec": {
   "display_name": "Python 3",
   "language": "python",
   "name": "python3"
  },
  "language_info": {
   "codemirror_mode": {
    "name": "ipython",
    "version": 3
   },
   "file_extension": ".py",
   "mimetype": "text/x-python",
   "name": "python",
   "nbconvert_exporter": "python",
   "pygments_lexer": "ipython3",
   "version": "3.8.3"
  }
 },
 "nbformat": 4,
 "nbformat_minor": 2
}
